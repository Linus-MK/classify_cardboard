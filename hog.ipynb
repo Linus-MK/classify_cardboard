{
 "cells": [
  {
   "cell_type": "code",
   "execution_count": 1,
   "metadata": {},
   "outputs": [],
   "source": [
    "%matplotlib inline\n",
    "import matplotlib.pyplot as plt\n",
    "import seaborn as sns; sns.set()\n",
    "import numpy as np\n",
    "\n",
    "import os\n",
    "import pickle"
   ]
  },
  {
   "cell_type": "markdown",
   "metadata": {},
   "source": [
    "# 画像の読み込み、train/test分離\n",
    "\n"
   ]
  },
  {
   "cell_type": "code",
   "execution_count": 2,
   "metadata": {},
   "outputs": [],
   "source": [
    "from skimage import data, color, feature\n",
    "import skimage.data\n",
    "%run path.py"
   ]
  },
  {
   "cell_type": "markdown",
   "metadata": {},
   "source": [
    "# 白黒化、縮小"
   ]
  },
  {
   "cell_type": "markdown",
   "metadata": {},
   "source": [
    "# HOG計算"
   ]
  },
  {
   "cell_type": "code",
   "execution_count": 3,
   "metadata": {},
   "outputs": [],
   "source": [
    "OK_name_list = os.listdir(img_path + \"OK\")\n",
    "NG_name_list = os.listdir(img_path + \"NG\")"
   ]
  },
  {
   "cell_type": "code",
   "execution_count": 4,
   "metadata": {},
   "outputs": [
    {
     "data": {
      "text/plain": [
       "'\\nOK_image_data = np.vstack([ feature.hog(                                         rescale(skimage.io.imread(img_path + \"OK/\" + name ), 1.0 / 8.0, mode=\\'constant\\', multichannel=True, anti_aliasing=True)                                        , block_norm=\\'L1\\')\\n                           for name in OK_name_list] )\\n\\nOK_image_data.shape # => (187, 222345)\\n\\nNG_image_data = np.vstack([ feature.hog(                                         rescale(skimage.io.imread(img_path + \"NG/\" + name ), 1.0 / 8.0, mode=\\'constant\\', multichannel=True, anti_aliasing=True)                                        , block_norm=\\'L1\\')\\n                           for name in NG_name_list] )\\nNG_image_data.shape # => (186, 222345)\\n\\n\\n# OK_image_data, NG_image_data をpickle化して保存する\\n\\nwith open(\\'OK_image_data.pickle\\', \\'wb\\') as f:\\n    pickle.dump(OK_image_data, f)\\n\\nwith open(\\'NG_image_data.pickle\\', \\'wb\\') as f:\\n    pickle.dump(NG_image_data, f)\\n'"
      ]
     },
     "execution_count": 4,
     "metadata": {},
     "output_type": "execute_result"
    }
   ],
   "source": [
    "# 時間がかかるので、結果をpickle化してコメントアウト\n",
    "\n",
    "'''\n",
    "OK_image_data = np.vstack([ feature.hog( \\\n",
    "                                        rescale(skimage.io.imread(img_path + \"OK/\" + name ), 1.0 / 8.0, mode='constant', multichannel=True, anti_aliasing=True) \\\n",
    "                                       , block_norm='L1')\n",
    "                           for name in OK_name_list] )\n",
    "\n",
    "OK_image_data.shape # => (187, 222345)\n",
    "\n",
    "NG_image_data = np.vstack([ feature.hog( \\\n",
    "                                        rescale(skimage.io.imread(img_path + \"NG/\" + name ), 1.0 / 8.0, mode='constant', multichannel=True, anti_aliasing=True) \\\n",
    "                                       , block_norm='L1')\n",
    "                           for name in NG_name_list] )\n",
    "NG_image_data.shape # => (186, 222345)\n",
    "\n",
    "\n",
    "# OK_image_data, NG_image_data をpickle化して保存する\n",
    "\n",
    "with open('OK_image_data.pickle', 'wb') as f:\n",
    "    pickle.dump(OK_image_data, f)\n",
    "\n",
    "with open('NG_image_data.pickle', 'wb') as f:\n",
    "    pickle.dump(NG_image_data, f)\n",
    "'''"
   ]
  },
  {
   "cell_type": "code",
   "execution_count": 5,
   "metadata": {},
   "outputs": [],
   "source": [
    "with open('OK_image_data.pickle', 'rb') as f:\n",
    "    OK_image_data = pickle.load(f)\n",
    "\n",
    "with open('NG_image_data.pickle', 'rb') as f:\n",
    "    NG_image_data = pickle.load(f)"
   ]
  },
  {
   "cell_type": "code",
   "execution_count": 6,
   "metadata": {},
   "outputs": [
    {
     "name": "stderr",
     "output_type": "stream",
     "text": [
      "c:\\program files\\python37\\lib\\site-packages\\skimage\\transform\\_warps.py:105: UserWarning: The default mode, 'constant', will be changed to 'reflect' in skimage 0.15.\n",
      "  warn(\"The default mode, 'constant', will be changed to 'reflect' in \"\n"
     ]
    }
   ],
   "source": [
    "from skimage.transform import rescale\n",
    "\n",
    "img_array = skimage.io.imread(img_path + \"OK/IMG_6753.JPG\")\n",
    "image_rescaled = rescale(img_array, 1.0 / 4.0, multichannel=True, anti_aliasing=True)"
   ]
  },
  {
   "cell_type": "code",
   "execution_count": 7,
   "metadata": {},
   "outputs": [
    {
     "name": "stdout",
     "output_type": "stream",
     "text": [
      "[92, 124, 3, 3, 9]\n"
     ]
    },
    {
     "data": {
      "text/plain": [
       "924048"
      ]
     },
     "execution_count": 7,
     "metadata": {},
     "output_type": "execute_result"
    }
   ],
   "source": [
    "orientations = 9\n",
    "cells_per_block = (3, 3)\n",
    "pixels_per_cell = (8, 8)\n",
    "\n",
    "c_row, c_col = pixels_per_cell\n",
    "b_row, b_col = cells_per_block\n",
    "s_row, s_col = image_rescaled.shape[:2]\n",
    "n_cells_row = int(s_row // c_row)\n",
    "n_cells_col = int(s_col // c_col)\n",
    "n_blocks_row = (n_cells_row - b_row) + 1\n",
    "n_blocks_col = (n_cells_col - b_col) + 1\n",
    "\n",
    "hog_data_size = [n_blocks_row, n_blocks_col, b_row, b_col, orientations]\n",
    "print(hog_data_size)\n",
    "\n",
    "import functools\n",
    "functools.reduce(lambda x,y : x*y , hog_data_size)"
   ]
  },
  {
   "cell_type": "code",
   "execution_count": 8,
   "metadata": {},
   "outputs": [
    {
     "data": {
      "text/plain": [
       "112"
      ]
     },
     "execution_count": 8,
     "metadata": {},
     "output_type": "execute_result"
    }
   ],
   "source": [
    "import sys\n",
    "sys.getsizeof(OK_image_data)\n",
    "# ->73923952"
   ]
  },
  {
   "cell_type": "code",
   "execution_count": 9,
   "metadata": {},
   "outputs": [
    {
     "data": {
      "text/plain": [
       "0.0001068115234375"
      ]
     },
     "execution_count": 9,
     "metadata": {},
     "output_type": "execute_result"
    }
   ],
   "source": [
    "_ /  (1024 ** 2)"
   ]
  },
  {
   "cell_type": "code",
   "execution_count": 10,
   "metadata": {},
   "outputs": [
    {
     "data": {
      "text/plain": [
       "0.00199737548828125"
      ]
     },
     "execution_count": 10,
     "metadata": {},
     "output_type": "execute_result"
    }
   ],
   "source": [
    "_ * (187/10)"
   ]
  },
  {
   "cell_type": "code",
   "execution_count": 11,
   "metadata": {},
   "outputs": [],
   "source": [
    "from sklearn import  model_selection"
   ]
  },
  {
   "cell_type": "code",
   "execution_count": 12,
   "metadata": {},
   "outputs": [],
   "source": [
    "target = np.zeros(len(OK_name_list) + len(NG_name_list))\n",
    "target[:len(OK_name_list)] = 1"
   ]
  },
  {
   "cell_type": "code",
   "execution_count": 13,
   "metadata": {},
   "outputs": [],
   "source": [
    "X_train, X_test, y_train, y_test = \\\n",
    "model_selection.train_test_split(np.vstack((OK_image_data, NG_image_data)), target, random_state=42 )\n"
   ]
  },
  {
   "cell_type": "code",
   "execution_count": 14,
   "metadata": {},
   "outputs": [
    {
     "data": {
      "text/plain": [
       "(94, 222345)"
      ]
     },
     "execution_count": 14,
     "metadata": {},
     "output_type": "execute_result"
    }
   ],
   "source": [
    "X_test.shape"
   ]
  },
  {
   "cell_type": "code",
   "execution_count": 15,
   "metadata": {},
   "outputs": [
    {
     "name": "stderr",
     "output_type": "stream",
     "text": [
      "c:\\program files\\python37\\lib\\site-packages\\sklearn\\model_selection\\_split.py:1943: FutureWarning: You should specify a value for 'cv' instead of relying on the default value. The default value will change from 3 to 5 in version 0.22.\n",
      "  warnings.warn(CV_WARNING, FutureWarning)\n"
     ]
    },
    {
     "name": "stdout",
     "output_type": "stream",
     "text": [
      "[0.7311828  0.87096774 0.67741935]\n",
      "0.7598566308243727\n"
     ]
    }
   ],
   "source": [
    "# ナイーブベイズ\n",
    "\n",
    "from sklearn.naive_bayes import  GaussianNB\n",
    "from sklearn.model_selection import  cross_val_score\n",
    "\n",
    "val = cross_val_score(GaussianNB(), X_train, y_train)\n",
    "print(val)\n",
    "print(val.mean())"
   ]
  },
  {
   "cell_type": "code",
   "execution_count": 16,
   "metadata": {},
   "outputs": [
    {
     "name": "stderr",
     "output_type": "stream",
     "text": [
      "c:\\program files\\python37\\lib\\site-packages\\sklearn\\model_selection\\_split.py:1943: FutureWarning: You should specify a value for 'cv' instead of relying on the default value. The default value will change from 3 to 5 in version 0.22.\n",
      "  warnings.warn(CV_WARNING, FutureWarning)\n"
     ]
    },
    {
     "data": {
      "text/plain": [
       "GridSearchCV(cv='warn', error_score='raise-deprecating',\n",
       "       estimator=LinearSVC(C=1.0, class_weight=None, dual=True, fit_intercept=True,\n",
       "     intercept_scaling=1, loss='squared_hinge', max_iter=1000,\n",
       "     multi_class='ovr', penalty='l2', random_state=None, tol=0.0001,\n",
       "     verbose=0),\n",
       "       fit_params=None, iid='warn', n_jobs=None,\n",
       "       param_grid={'C': [1.0, 2.0, 4.0, 8.0]}, pre_dispatch='2*n_jobs',\n",
       "       refit=True, return_train_score='warn', scoring=None, verbose=0)"
      ]
     },
     "execution_count": 16,
     "metadata": {},
     "output_type": "execute_result"
    }
   ],
   "source": [
    "from sklearn.svm import LinearSVC\n",
    "from sklearn.model_selection import GridSearchCV\n",
    "\n",
    "grid = GridSearchCV(LinearSVC(), {'C': [1.0, 2.0, 4.0, 8.0]})\n",
    "grid.fit(X_train, y_train)"
   ]
  },
  {
   "cell_type": "code",
   "execution_count": 17,
   "metadata": {},
   "outputs": [
    {
     "data": {
      "text/plain": [
       "0.7204301075268817"
      ]
     },
     "execution_count": 17,
     "metadata": {},
     "output_type": "execute_result"
    }
   ],
   "source": [
    "grid.best_score_"
   ]
  },
  {
   "cell_type": "code",
   "execution_count": 18,
   "metadata": {},
   "outputs": [
    {
     "data": {
      "text/plain": [
       "False"
      ]
     },
     "execution_count": 18,
     "metadata": {},
     "output_type": "execute_result"
    }
   ],
   "source": [
    "grid.best_score_ > val.mean()\n",
    "# ナイーブベイズよりもSVMのほうが悪い……"
   ]
  },
  {
   "cell_type": "code",
   "execution_count": 21,
   "metadata": {},
   "outputs": [
    {
     "data": {
      "text/plain": [
       "(373, 367)"
      ]
     },
     "execution_count": 21,
     "metadata": {},
     "output_type": "execute_result"
    }
   ],
   "source": [
    "from sklearn.decomposition import PCA\n",
    "\n",
    "pca = PCA(0.999)\n",
    "\n",
    "compressed_data = pca.fit_transform(X_train)\n",
    "compressed_data.shape\n"
   ]
  },
  {
   "cell_type": "code",
   "execution_count": 25,
   "metadata": {},
   "outputs": [],
   "source": [
    "# https://medium.com/@thimblot/data-augmentation-boost-your-image-dataset-with-few-lines-of-python-155c2dc1baec\n",
    "import skimage\n",
    "def random_rotation(imagearray):\n",
    "    random_degree = random.uniform(-5, 5)\n",
    "    return skimage.transform.rotate(imagearray, random_degree)\n",
    "\n",
    "def "
   ]
  },
  {
   "cell_type": "code",
   "execution_count": 26,
   "metadata": {},
   "outputs": [
    {
     "data": {
      "text/plain": [
       "(279, 222345)"
      ]
     },
     "execution_count": 26,
     "metadata": {},
     "output_type": "execute_result"
    }
   ],
   "source": [
    "X_train.shape\n"
   ]
  },
  {
   "cell_type": "code",
   "execution_count": 27,
   "metadata": {},
   "outputs": [
    {
     "data": {
      "text/plain": [
       "array([0.09064332, 0.00349144, 0.02633925, ..., 0.00796195, 0.00707209,\n",
       "       0.02335467])"
      ]
     },
     "execution_count": 27,
     "metadata": {},
     "output_type": "execute_result"
    }
   ],
   "source": [
    "X_train[23]"
   ]
  },
  {
   "cell_type": "code",
   "execution_count": null,
   "metadata": {},
   "outputs": [],
   "source": []
  }
 ],
 "metadata": {
  "kernelspec": {
   "display_name": "Python 3",
   "language": "python",
   "name": "python3"
  },
  "language_info": {
   "codemirror_mode": {
    "name": "ipython",
    "version": 3
   },
   "file_extension": ".py",
   "mimetype": "text/x-python",
   "name": "python",
   "nbconvert_exporter": "python",
   "pygments_lexer": "ipython3",
   "version": "3.7.1"
  }
 },
 "nbformat": 4,
 "nbformat_minor": 2
}
